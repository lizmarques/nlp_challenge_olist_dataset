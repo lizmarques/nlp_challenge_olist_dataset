{
  "nbformat": 4,
  "nbformat_minor": 0,
  "metadata": {
    "colab": {
      "provenance": []
    },
    "kernelspec": {
      "name": "python3",
      "display_name": "Python 3"
    },
    "language_info": {
      "name": "python"
    }
  },
  "cells": [
    {
      "cell_type": "markdown",
      "source": [
        "<h1 title><center>NLP Challenge</center></h1>\n",
        "<p><center style=\"font-size:120%;\">Dataset: Olist (order reviews)</center></p>"
      ],
      "metadata": {
        "id": "-T5qBHP2Rn6h"
      }
    },
    {
      "cell_type": "markdown",
      "source": [
        "## Importing libraries"
      ],
      "metadata": {
        "id": "4XDPMkUnR-7-"
      }
    },
    {
      "cell_type": "code",
      "execution_count": null,
      "metadata": {
        "id": "zdWSA5xxNI6e",
        "colab": {
          "base_uri": "https://localhost:8080/"
        },
        "outputId": "4dcaed18-759e-45cb-e85f-7e5a34dd5ebc"
      },
      "outputs": [
        {
          "output_type": "stream",
          "name": "stderr",
          "text": [
            "/usr/local/lib/python3.8/dist-packages/torch/cuda/__init__.py:497: UserWarning: Can't initialize NVML\n",
            "  warnings.warn(\"Can't initialize NVML\")\n",
            "[nltk_data] Downloading package stopwords to /root/nltk_data...\n",
            "[nltk_data]   Unzipping corpora/stopwords.zip.\n"
          ]
        }
      ],
      "source": [
        "import pandas as pd\n",
        "import re\n",
        "import nltk\n",
        "import spacy\n",
        "import matplotlib.pyplot as plt\n",
        "import seaborn as sns\n",
        "from sklearn.feature_extraction.text import CountVectorizer\n",
        "from sklearn.feature_extraction.text import TfidfVectorizer\n",
        "from sklearn.metrics import accuracy_score, confusion_matrix, classification_report\n",
        "from sklearn.linear_model import LogisticRegression\n",
        "from sklearn.model_selection import train_test_split\n",
        "from sklearn.ensemble import RandomForestClassifier\n",
        "import nltk\n",
        "nltk.download(\"stopwords\")\n",
        "from nltk.corpus import stopwords"
      ]
    },
    {
      "cell_type": "code",
      "source": [
        "import spacy.cli\n",
        "spacy.cli.download(\"pt_core_news_sm\")\n",
        "import pt_core_news_sm"
      ],
      "metadata": {
        "colab": {
          "base_uri": "https://localhost:8080/"
        },
        "id": "tFULlwPzNOzR",
        "outputId": "2fa41b20-6ec2-4c0f-aecd-c6e3c14ae28d"
      },
      "execution_count": null,
      "outputs": [
        {
          "output_type": "stream",
          "name": "stdout",
          "text": [
            "\u001b[38;5;2m✔ Download and installation successful\u001b[0m\n",
            "You can now load the package via spacy.load('pt_core_news_sm')\n"
          ]
        }
      ]
    },
    {
      "cell_type": "markdown",
      "source": [
        "##Data exploration"
      ],
      "metadata": {
        "id": "pqpA8sD6VsWc"
      }
    },
    {
      "cell_type": "code",
      "source": [
        "# Loading dataset\n",
        "order_reviews_df = pd.read_csv(\"/content/olist_order_reviews_dataset.csv\")"
      ],
      "metadata": {
        "id": "kuJl0k8kNOtc"
      },
      "execution_count": null,
      "outputs": []
    },
    {
      "cell_type": "code",
      "source": [
        "# Checking the first 5 records\n",
        "order_reviews_df.head()"
      ],
      "metadata": {
        "colab": {
          "base_uri": "https://localhost:8080/",
          "height": 305
        },
        "id": "JlZC_LK4NOq-",
        "outputId": "91a3afc5-9556-42a6-f5e1-b4f4b1a7ae92"
      },
      "execution_count": null,
      "outputs": [
        {
          "output_type": "execute_result",
          "data": {
            "text/plain": [
              "                          review_id                          order_id  \\\n",
              "0  7bc2406110b926393aa56f80a40eba40  73fc7af87114b39712e6da79b0a377eb   \n",
              "1  80e641a11e56f04c1ad469d5645fdfde  a548910a1c6147796b98fdf73dbeba33   \n",
              "2  228ce5500dc1d8e020d8d1322874b6f0  f9e4b658b201a9f2ecdecbb34bed034b   \n",
              "3  e64fb393e7b32834bb789ff8bb30750e  658677c97b385a9be170737859d3511b   \n",
              "4  f7c4243c7fe1938f181bec41a392bdeb  8e6bfb81e283fa7e4f11123a3fb894f1   \n",
              "\n",
              "   review_score review_comment_title  \\\n",
              "0             4                  NaN   \n",
              "1             5                  NaN   \n",
              "2             5                  NaN   \n",
              "3             5                  NaN   \n",
              "4             5                  NaN   \n",
              "\n",
              "                              review_comment_message review_creation_date  \\\n",
              "0                                                NaN  2018-01-18 00:00:00   \n",
              "1                                                NaN  2018-03-10 00:00:00   \n",
              "2                                                NaN  2018-02-17 00:00:00   \n",
              "3              Recebi bem antes do prazo estipulado.  2017-04-21 00:00:00   \n",
              "4  Parabéns lojas lannister adorei comprar pela I...  2018-03-01 00:00:00   \n",
              "\n",
              "  review_answer_timestamp  \n",
              "0     2018-01-18 21:46:59  \n",
              "1     2018-03-11 03:05:13  \n",
              "2     2018-02-18 14:36:24  \n",
              "3     2017-04-21 22:02:06  \n",
              "4     2018-03-02 10:26:53  "
            ],
            "text/html": [
              "\n",
              "  <div id=\"df-58494905-fb5d-43c3-91f8-418861774910\">\n",
              "    <div class=\"colab-df-container\">\n",
              "      <div>\n",
              "<style scoped>\n",
              "    .dataframe tbody tr th:only-of-type {\n",
              "        vertical-align: middle;\n",
              "    }\n",
              "\n",
              "    .dataframe tbody tr th {\n",
              "        vertical-align: top;\n",
              "    }\n",
              "\n",
              "    .dataframe thead th {\n",
              "        text-align: right;\n",
              "    }\n",
              "</style>\n",
              "<table border=\"1\" class=\"dataframe\">\n",
              "  <thead>\n",
              "    <tr style=\"text-align: right;\">\n",
              "      <th></th>\n",
              "      <th>review_id</th>\n",
              "      <th>order_id</th>\n",
              "      <th>review_score</th>\n",
              "      <th>review_comment_title</th>\n",
              "      <th>review_comment_message</th>\n",
              "      <th>review_creation_date</th>\n",
              "      <th>review_answer_timestamp</th>\n",
              "    </tr>\n",
              "  </thead>\n",
              "  <tbody>\n",
              "    <tr>\n",
              "      <th>0</th>\n",
              "      <td>7bc2406110b926393aa56f80a40eba40</td>\n",
              "      <td>73fc7af87114b39712e6da79b0a377eb</td>\n",
              "      <td>4</td>\n",
              "      <td>NaN</td>\n",
              "      <td>NaN</td>\n",
              "      <td>2018-01-18 00:00:00</td>\n",
              "      <td>2018-01-18 21:46:59</td>\n",
              "    </tr>\n",
              "    <tr>\n",
              "      <th>1</th>\n",
              "      <td>80e641a11e56f04c1ad469d5645fdfde</td>\n",
              "      <td>a548910a1c6147796b98fdf73dbeba33</td>\n",
              "      <td>5</td>\n",
              "      <td>NaN</td>\n",
              "      <td>NaN</td>\n",
              "      <td>2018-03-10 00:00:00</td>\n",
              "      <td>2018-03-11 03:05:13</td>\n",
              "    </tr>\n",
              "    <tr>\n",
              "      <th>2</th>\n",
              "      <td>228ce5500dc1d8e020d8d1322874b6f0</td>\n",
              "      <td>f9e4b658b201a9f2ecdecbb34bed034b</td>\n",
              "      <td>5</td>\n",
              "      <td>NaN</td>\n",
              "      <td>NaN</td>\n",
              "      <td>2018-02-17 00:00:00</td>\n",
              "      <td>2018-02-18 14:36:24</td>\n",
              "    </tr>\n",
              "    <tr>\n",
              "      <th>3</th>\n",
              "      <td>e64fb393e7b32834bb789ff8bb30750e</td>\n",
              "      <td>658677c97b385a9be170737859d3511b</td>\n",
              "      <td>5</td>\n",
              "      <td>NaN</td>\n",
              "      <td>Recebi bem antes do prazo estipulado.</td>\n",
              "      <td>2017-04-21 00:00:00</td>\n",
              "      <td>2017-04-21 22:02:06</td>\n",
              "    </tr>\n",
              "    <tr>\n",
              "      <th>4</th>\n",
              "      <td>f7c4243c7fe1938f181bec41a392bdeb</td>\n",
              "      <td>8e6bfb81e283fa7e4f11123a3fb894f1</td>\n",
              "      <td>5</td>\n",
              "      <td>NaN</td>\n",
              "      <td>Parabéns lojas lannister adorei comprar pela I...</td>\n",
              "      <td>2018-03-01 00:00:00</td>\n",
              "      <td>2018-03-02 10:26:53</td>\n",
              "    </tr>\n",
              "  </tbody>\n",
              "</table>\n",
              "</div>\n",
              "      <button class=\"colab-df-convert\" onclick=\"convertToInteractive('df-58494905-fb5d-43c3-91f8-418861774910')\"\n",
              "              title=\"Convert this dataframe to an interactive table.\"\n",
              "              style=\"display:none;\">\n",
              "        \n",
              "  <svg xmlns=\"http://www.w3.org/2000/svg\" height=\"24px\"viewBox=\"0 0 24 24\"\n",
              "       width=\"24px\">\n",
              "    <path d=\"M0 0h24v24H0V0z\" fill=\"none\"/>\n",
              "    <path d=\"M18.56 5.44l.94 2.06.94-2.06 2.06-.94-2.06-.94-.94-2.06-.94 2.06-2.06.94zm-11 1L8.5 8.5l.94-2.06 2.06-.94-2.06-.94L8.5 2.5l-.94 2.06-2.06.94zm10 10l.94 2.06.94-2.06 2.06-.94-2.06-.94-.94-2.06-.94 2.06-2.06.94z\"/><path d=\"M17.41 7.96l-1.37-1.37c-.4-.4-.92-.59-1.43-.59-.52 0-1.04.2-1.43.59L10.3 9.45l-7.72 7.72c-.78.78-.78 2.05 0 2.83L4 21.41c.39.39.9.59 1.41.59.51 0 1.02-.2 1.41-.59l7.78-7.78 2.81-2.81c.8-.78.8-2.07 0-2.86zM5.41 20L4 18.59l7.72-7.72 1.47 1.35L5.41 20z\"/>\n",
              "  </svg>\n",
              "      </button>\n",
              "      \n",
              "  <style>\n",
              "    .colab-df-container {\n",
              "      display:flex;\n",
              "      flex-wrap:wrap;\n",
              "      gap: 12px;\n",
              "    }\n",
              "\n",
              "    .colab-df-convert {\n",
              "      background-color: #E8F0FE;\n",
              "      border: none;\n",
              "      border-radius: 50%;\n",
              "      cursor: pointer;\n",
              "      display: none;\n",
              "      fill: #1967D2;\n",
              "      height: 32px;\n",
              "      padding: 0 0 0 0;\n",
              "      width: 32px;\n",
              "    }\n",
              "\n",
              "    .colab-df-convert:hover {\n",
              "      background-color: #E2EBFA;\n",
              "      box-shadow: 0px 1px 2px rgba(60, 64, 67, 0.3), 0px 1px 3px 1px rgba(60, 64, 67, 0.15);\n",
              "      fill: #174EA6;\n",
              "    }\n",
              "\n",
              "    [theme=dark] .colab-df-convert {\n",
              "      background-color: #3B4455;\n",
              "      fill: #D2E3FC;\n",
              "    }\n",
              "\n",
              "    [theme=dark] .colab-df-convert:hover {\n",
              "      background-color: #434B5C;\n",
              "      box-shadow: 0px 1px 3px 1px rgba(0, 0, 0, 0.15);\n",
              "      filter: drop-shadow(0px 1px 2px rgba(0, 0, 0, 0.3));\n",
              "      fill: #FFFFFF;\n",
              "    }\n",
              "  </style>\n",
              "\n",
              "      <script>\n",
              "        const buttonEl =\n",
              "          document.querySelector('#df-58494905-fb5d-43c3-91f8-418861774910 button.colab-df-convert');\n",
              "        buttonEl.style.display =\n",
              "          google.colab.kernel.accessAllowed ? 'block' : 'none';\n",
              "\n",
              "        async function convertToInteractive(key) {\n",
              "          const element = document.querySelector('#df-58494905-fb5d-43c3-91f8-418861774910');\n",
              "          const dataTable =\n",
              "            await google.colab.kernel.invokeFunction('convertToInteractive',\n",
              "                                                     [key], {});\n",
              "          if (!dataTable) return;\n",
              "\n",
              "          const docLinkHtml = 'Like what you see? Visit the ' +\n",
              "            '<a target=\"_blank\" href=https://colab.research.google.com/notebooks/data_table.ipynb>data table notebook</a>'\n",
              "            + ' to learn more about interactive tables.';\n",
              "          element.innerHTML = '';\n",
              "          dataTable['output_type'] = 'display_data';\n",
              "          await google.colab.output.renderOutput(dataTable, element);\n",
              "          const docLink = document.createElement('div');\n",
              "          docLink.innerHTML = docLinkHtml;\n",
              "          element.appendChild(docLink);\n",
              "        }\n",
              "      </script>\n",
              "    </div>\n",
              "  </div>\n",
              "  "
            ]
          },
          "metadata": {},
          "execution_count": 4
        }
      ]
    },
    {
      "cell_type": "code",
      "source": [
        "# Checking the shape\n",
        "# 57.560 rows\n",
        "# 7 columns\n",
        "order_reviews_df.shape"
      ],
      "metadata": {
        "colab": {
          "base_uri": "https://localhost:8080/"
        },
        "id": "zlGSfqVDk40a",
        "outputId": "5cae0e68-a5b5-4212-b857-8a8dd1d2aeaf"
      },
      "execution_count": null,
      "outputs": [
        {
          "output_type": "execute_result",
          "data": {
            "text/plain": [
              "(57560, 7)"
            ]
          },
          "metadata": {},
          "execution_count": 5
        }
      ]
    },
    {
      "cell_type": "code",
      "source": [
        "# Removing unnecessary columns\n",
        "order_reviews_df.drop([\"order_id\", \"review_creation_date\", \"review_answer_timestamp\"], 1, inplace = True)"
      ],
      "metadata": {
        "colab": {
          "base_uri": "https://localhost:8080/"
        },
        "id": "2l5WifYmNZtI",
        "outputId": "3609797d-a2e3-46b5-bddd-894bac269d32"
      },
      "execution_count": null,
      "outputs": [
        {
          "output_type": "stream",
          "name": "stderr",
          "text": [
            "<ipython-input-6-47d189474c34>:2: FutureWarning: In a future version of pandas all arguments of DataFrame.drop except for the argument 'labels' will be keyword-only\n",
            "  order_reviews_df.drop([\"order_id\", \"review_creation_date\", \"review_answer_timestamp\"], 1, inplace = True)\n"
          ]
        }
      ]
    },
    {
      "cell_type": "code",
      "source": [
        "# Checking for duplicate values\n",
        "order_reviews_df[order_reviews_df.duplicated(\"review_id\", keep =  False)].sort_values(by = \"review_id\")"
      ],
      "metadata": {
        "colab": {
          "base_uri": "https://localhost:8080/",
          "height": 468
        },
        "id": "XMBPGyQ9NZkg",
        "outputId": "a7528337-6c3c-44e5-f98f-12b17b20adde"
      },
      "execution_count": null,
      "outputs": [
        {
          "output_type": "execute_result",
          "data": {
            "text/plain": [
              "                              review_id  review_score  \\\n",
              "29841  00130cbe1f9d422698c812ed8ded1919             1   \n",
              "46678  00130cbe1f9d422698c812ed8ded1919             1   \n",
              "1988   03a6a25db577d0689440933055111897             5   \n",
              "9013   03a6a25db577d0689440933055111897             5   \n",
              "21587  0467560f511c516ddaa54a60edb0c291             5   \n",
              "...                                 ...           ...   \n",
              "31840  fb962e0e8c73e6e359ce7d34de8571ed             5   \n",
              "11895  fc906850133b4a339e3aad7b79dbfa7a             1   \n",
              "38971  fc906850133b4a339e3aad7b79dbfa7a             1   \n",
              "31120  fe5c833752953fed3209646f1f63b53c             1   \n",
              "40378  fe5c833752953fed3209646f1f63b53c             1   \n",
              "\n",
              "          review_comment_title  \\\n",
              "29841                      NaN   \n",
              "46678                      NaN   \n",
              "1988                       NaN   \n",
              "9013                       NaN   \n",
              "21587                      NaN   \n",
              "...                        ...   \n",
              "31840                      NaN   \n",
              "11895  Não recebi até 28/04/20   \n",
              "38971  Não recebi até 28/04/20   \n",
              "31120                      NaN   \n",
              "40378                      NaN   \n",
              "\n",
              "                                  review_comment_message  \n",
              "29841  O cartucho \"original HP\" 60XL não é reconhecid...  \n",
              "46678  O cartucho \"original HP\" 60XL não é reconhecid...  \n",
              "1988   Muito Bom! Gostei Bastante! Tecido Ótimo! Aten...  \n",
              "9013   Muito Bom! Gostei Bastante! Tecido Ótimo! Aten...  \n",
              "21587                                                NaN  \n",
              "...                                                  ...  \n",
              "31840                                                NaN  \n",
              "11895                                                NaN  \n",
              "38971                                                NaN  \n",
              "31120  Comprei dois produtos e ambos, mesmo enviados ...  \n",
              "40378  Comprei dois produtos e ambos, mesmo enviados ...  \n",
              "\n",
              "[546 rows x 4 columns]"
            ],
            "text/html": [
              "\n",
              "  <div id=\"df-438d5336-9a32-4af5-af29-7536d4e9142c\">\n",
              "    <div class=\"colab-df-container\">\n",
              "      <div>\n",
              "<style scoped>\n",
              "    .dataframe tbody tr th:only-of-type {\n",
              "        vertical-align: middle;\n",
              "    }\n",
              "\n",
              "    .dataframe tbody tr th {\n",
              "        vertical-align: top;\n",
              "    }\n",
              "\n",
              "    .dataframe thead th {\n",
              "        text-align: right;\n",
              "    }\n",
              "</style>\n",
              "<table border=\"1\" class=\"dataframe\">\n",
              "  <thead>\n",
              "    <tr style=\"text-align: right;\">\n",
              "      <th></th>\n",
              "      <th>review_id</th>\n",
              "      <th>review_score</th>\n",
              "      <th>review_comment_title</th>\n",
              "      <th>review_comment_message</th>\n",
              "    </tr>\n",
              "  </thead>\n",
              "  <tbody>\n",
              "    <tr>\n",
              "      <th>29841</th>\n",
              "      <td>00130cbe1f9d422698c812ed8ded1919</td>\n",
              "      <td>1</td>\n",
              "      <td>NaN</td>\n",
              "      <td>O cartucho \"original HP\" 60XL não é reconhecid...</td>\n",
              "    </tr>\n",
              "    <tr>\n",
              "      <th>46678</th>\n",
              "      <td>00130cbe1f9d422698c812ed8ded1919</td>\n",
              "      <td>1</td>\n",
              "      <td>NaN</td>\n",
              "      <td>O cartucho \"original HP\" 60XL não é reconhecid...</td>\n",
              "    </tr>\n",
              "    <tr>\n",
              "      <th>1988</th>\n",
              "      <td>03a6a25db577d0689440933055111897</td>\n",
              "      <td>5</td>\n",
              "      <td>NaN</td>\n",
              "      <td>Muito Bom! Gostei Bastante! Tecido Ótimo! Aten...</td>\n",
              "    </tr>\n",
              "    <tr>\n",
              "      <th>9013</th>\n",
              "      <td>03a6a25db577d0689440933055111897</td>\n",
              "      <td>5</td>\n",
              "      <td>NaN</td>\n",
              "      <td>Muito Bom! Gostei Bastante! Tecido Ótimo! Aten...</td>\n",
              "    </tr>\n",
              "    <tr>\n",
              "      <th>21587</th>\n",
              "      <td>0467560f511c516ddaa54a60edb0c291</td>\n",
              "      <td>5</td>\n",
              "      <td>NaN</td>\n",
              "      <td>NaN</td>\n",
              "    </tr>\n",
              "    <tr>\n",
              "      <th>...</th>\n",
              "      <td>...</td>\n",
              "      <td>...</td>\n",
              "      <td>...</td>\n",
              "      <td>...</td>\n",
              "    </tr>\n",
              "    <tr>\n",
              "      <th>31840</th>\n",
              "      <td>fb962e0e8c73e6e359ce7d34de8571ed</td>\n",
              "      <td>5</td>\n",
              "      <td>NaN</td>\n",
              "      <td>NaN</td>\n",
              "    </tr>\n",
              "    <tr>\n",
              "      <th>11895</th>\n",
              "      <td>fc906850133b4a339e3aad7b79dbfa7a</td>\n",
              "      <td>1</td>\n",
              "      <td>Não recebi até 28/04/20</td>\n",
              "      <td>NaN</td>\n",
              "    </tr>\n",
              "    <tr>\n",
              "      <th>38971</th>\n",
              "      <td>fc906850133b4a339e3aad7b79dbfa7a</td>\n",
              "      <td>1</td>\n",
              "      <td>Não recebi até 28/04/20</td>\n",
              "      <td>NaN</td>\n",
              "    </tr>\n",
              "    <tr>\n",
              "      <th>31120</th>\n",
              "      <td>fe5c833752953fed3209646f1f63b53c</td>\n",
              "      <td>1</td>\n",
              "      <td>NaN</td>\n",
              "      <td>Comprei dois produtos e ambos, mesmo enviados ...</td>\n",
              "    </tr>\n",
              "    <tr>\n",
              "      <th>40378</th>\n",
              "      <td>fe5c833752953fed3209646f1f63b53c</td>\n",
              "      <td>1</td>\n",
              "      <td>NaN</td>\n",
              "      <td>Comprei dois produtos e ambos, mesmo enviados ...</td>\n",
              "    </tr>\n",
              "  </tbody>\n",
              "</table>\n",
              "<p>546 rows × 4 columns</p>\n",
              "</div>\n",
              "      <button class=\"colab-df-convert\" onclick=\"convertToInteractive('df-438d5336-9a32-4af5-af29-7536d4e9142c')\"\n",
              "              title=\"Convert this dataframe to an interactive table.\"\n",
              "              style=\"display:none;\">\n",
              "        \n",
              "  <svg xmlns=\"http://www.w3.org/2000/svg\" height=\"24px\"viewBox=\"0 0 24 24\"\n",
              "       width=\"24px\">\n",
              "    <path d=\"M0 0h24v24H0V0z\" fill=\"none\"/>\n",
              "    <path d=\"M18.56 5.44l.94 2.06.94-2.06 2.06-.94-2.06-.94-.94-2.06-.94 2.06-2.06.94zm-11 1L8.5 8.5l.94-2.06 2.06-.94-2.06-.94L8.5 2.5l-.94 2.06-2.06.94zm10 10l.94 2.06.94-2.06 2.06-.94-2.06-.94-.94-2.06-.94 2.06-2.06.94z\"/><path d=\"M17.41 7.96l-1.37-1.37c-.4-.4-.92-.59-1.43-.59-.52 0-1.04.2-1.43.59L10.3 9.45l-7.72 7.72c-.78.78-.78 2.05 0 2.83L4 21.41c.39.39.9.59 1.41.59.51 0 1.02-.2 1.41-.59l7.78-7.78 2.81-2.81c.8-.78.8-2.07 0-2.86zM5.41 20L4 18.59l7.72-7.72 1.47 1.35L5.41 20z\"/>\n",
              "  </svg>\n",
              "      </button>\n",
              "      \n",
              "  <style>\n",
              "    .colab-df-container {\n",
              "      display:flex;\n",
              "      flex-wrap:wrap;\n",
              "      gap: 12px;\n",
              "    }\n",
              "\n",
              "    .colab-df-convert {\n",
              "      background-color: #E8F0FE;\n",
              "      border: none;\n",
              "      border-radius: 50%;\n",
              "      cursor: pointer;\n",
              "      display: none;\n",
              "      fill: #1967D2;\n",
              "      height: 32px;\n",
              "      padding: 0 0 0 0;\n",
              "      width: 32px;\n",
              "    }\n",
              "\n",
              "    .colab-df-convert:hover {\n",
              "      background-color: #E2EBFA;\n",
              "      box-shadow: 0px 1px 2px rgba(60, 64, 67, 0.3), 0px 1px 3px 1px rgba(60, 64, 67, 0.15);\n",
              "      fill: #174EA6;\n",
              "    }\n",
              "\n",
              "    [theme=dark] .colab-df-convert {\n",
              "      background-color: #3B4455;\n",
              "      fill: #D2E3FC;\n",
              "    }\n",
              "\n",
              "    [theme=dark] .colab-df-convert:hover {\n",
              "      background-color: #434B5C;\n",
              "      box-shadow: 0px 1px 3px 1px rgba(0, 0, 0, 0.15);\n",
              "      filter: drop-shadow(0px 1px 2px rgba(0, 0, 0, 0.3));\n",
              "      fill: #FFFFFF;\n",
              "    }\n",
              "  </style>\n",
              "\n",
              "      <script>\n",
              "        const buttonEl =\n",
              "          document.querySelector('#df-438d5336-9a32-4af5-af29-7536d4e9142c button.colab-df-convert');\n",
              "        buttonEl.style.display =\n",
              "          google.colab.kernel.accessAllowed ? 'block' : 'none';\n",
              "\n",
              "        async function convertToInteractive(key) {\n",
              "          const element = document.querySelector('#df-438d5336-9a32-4af5-af29-7536d4e9142c');\n",
              "          const dataTable =\n",
              "            await google.colab.kernel.invokeFunction('convertToInteractive',\n",
              "                                                     [key], {});\n",
              "          if (!dataTable) return;\n",
              "\n",
              "          const docLinkHtml = 'Like what you see? Visit the ' +\n",
              "            '<a target=\"_blank\" href=https://colab.research.google.com/notebooks/data_table.ipynb>data table notebook</a>'\n",
              "            + ' to learn more about interactive tables.';\n",
              "          element.innerHTML = '';\n",
              "          dataTable['output_type'] = 'display_data';\n",
              "          await google.colab.output.renderOutput(dataTable, element);\n",
              "          const docLink = document.createElement('div');\n",
              "          docLink.innerHTML = docLinkHtml;\n",
              "          element.appendChild(docLink);\n",
              "        }\n",
              "      </script>\n",
              "    </div>\n",
              "  </div>\n",
              "  "
            ]
          },
          "metadata": {},
          "execution_count": 7
        }
      ]
    },
    {
      "cell_type": "code",
      "source": [
        "# Removing duplicate values\n",
        "order_reviews_df.drop_duplicates(\"review_id\", inplace = True)"
      ],
      "metadata": {
        "id": "NS9rh8Y0NZiD"
      },
      "execution_count": null,
      "outputs": []
    },
    {
      "cell_type": "code",
      "source": [
        "# Replacing null records with space\n",
        "order_reviews_df.fillna('', inplace = True)"
      ],
      "metadata": {
        "id": "4dO3orL8NiWy"
      },
      "execution_count": null,
      "outputs": []
    },
    {
      "cell_type": "code",
      "source": [
        "# Joining the \"review_comment_title\" and \"review_comment_message\" columns\n",
        "# This way, it is possible to get more reviews, since there are users\n",
        "# that only filled in the \"comment_title\" and not the \"comment_message\"\n",
        "order_reviews_df[\"full_review\"] = order_reviews_df[\"review_comment_title\"] + ' ' + order_reviews_df[\"review_comment_message\"]"
      ],
      "metadata": {
        "id": "pKFzf5TFhhL0"
      },
      "execution_count": null,
      "outputs": []
    },
    {
      "cell_type": "code",
      "source": [
        "# Viewing the dataset with the new column \"full_review\"\n",
        "order_reviews_df.head()"
      ],
      "metadata": {
        "colab": {
          "base_uri": "https://localhost:8080/",
          "height": 285
        },
        "id": "cFXS_XmrAm1q",
        "outputId": "9679fa91-8d19-4e82-fbbd-61dce6595990"
      },
      "execution_count": null,
      "outputs": [
        {
          "output_type": "execute_result",
          "data": {
            "text/plain": [
              "                          review_id  review_score review_comment_title  \\\n",
              "0  7bc2406110b926393aa56f80a40eba40             4                        \n",
              "1  80e641a11e56f04c1ad469d5645fdfde             5                        \n",
              "2  228ce5500dc1d8e020d8d1322874b6f0             5                        \n",
              "3  e64fb393e7b32834bb789ff8bb30750e             5                        \n",
              "4  f7c4243c7fe1938f181bec41a392bdeb             5                        \n",
              "\n",
              "                              review_comment_message  \\\n",
              "0                                                      \n",
              "1                                                      \n",
              "2                                                      \n",
              "3              Recebi bem antes do prazo estipulado.   \n",
              "4  Parabéns lojas lannister adorei comprar pela I...   \n",
              "\n",
              "                                         full_review  \n",
              "0                                                     \n",
              "1                                                     \n",
              "2                                                     \n",
              "3              Recebi bem antes do prazo estipulado.  \n",
              "4   Parabéns lojas lannister adorei comprar pela ...  "
            ],
            "text/html": [
              "\n",
              "  <div id=\"df-4022e7e1-8bf9-4ff7-9400-81c359f14e6a\">\n",
              "    <div class=\"colab-df-container\">\n",
              "      <div>\n",
              "<style scoped>\n",
              "    .dataframe tbody tr th:only-of-type {\n",
              "        vertical-align: middle;\n",
              "    }\n",
              "\n",
              "    .dataframe tbody tr th {\n",
              "        vertical-align: top;\n",
              "    }\n",
              "\n",
              "    .dataframe thead th {\n",
              "        text-align: right;\n",
              "    }\n",
              "</style>\n",
              "<table border=\"1\" class=\"dataframe\">\n",
              "  <thead>\n",
              "    <tr style=\"text-align: right;\">\n",
              "      <th></th>\n",
              "      <th>review_id</th>\n",
              "      <th>review_score</th>\n",
              "      <th>review_comment_title</th>\n",
              "      <th>review_comment_message</th>\n",
              "      <th>full_review</th>\n",
              "    </tr>\n",
              "  </thead>\n",
              "  <tbody>\n",
              "    <tr>\n",
              "      <th>0</th>\n",
              "      <td>7bc2406110b926393aa56f80a40eba40</td>\n",
              "      <td>4</td>\n",
              "      <td></td>\n",
              "      <td></td>\n",
              "      <td></td>\n",
              "    </tr>\n",
              "    <tr>\n",
              "      <th>1</th>\n",
              "      <td>80e641a11e56f04c1ad469d5645fdfde</td>\n",
              "      <td>5</td>\n",
              "      <td></td>\n",
              "      <td></td>\n",
              "      <td></td>\n",
              "    </tr>\n",
              "    <tr>\n",
              "      <th>2</th>\n",
              "      <td>228ce5500dc1d8e020d8d1322874b6f0</td>\n",
              "      <td>5</td>\n",
              "      <td></td>\n",
              "      <td></td>\n",
              "      <td></td>\n",
              "    </tr>\n",
              "    <tr>\n",
              "      <th>3</th>\n",
              "      <td>e64fb393e7b32834bb789ff8bb30750e</td>\n",
              "      <td>5</td>\n",
              "      <td></td>\n",
              "      <td>Recebi bem antes do prazo estipulado.</td>\n",
              "      <td>Recebi bem antes do prazo estipulado.</td>\n",
              "    </tr>\n",
              "    <tr>\n",
              "      <th>4</th>\n",
              "      <td>f7c4243c7fe1938f181bec41a392bdeb</td>\n",
              "      <td>5</td>\n",
              "      <td></td>\n",
              "      <td>Parabéns lojas lannister adorei comprar pela I...</td>\n",
              "      <td>Parabéns lojas lannister adorei comprar pela ...</td>\n",
              "    </tr>\n",
              "  </tbody>\n",
              "</table>\n",
              "</div>\n",
              "      <button class=\"colab-df-convert\" onclick=\"convertToInteractive('df-4022e7e1-8bf9-4ff7-9400-81c359f14e6a')\"\n",
              "              title=\"Convert this dataframe to an interactive table.\"\n",
              "              style=\"display:none;\">\n",
              "        \n",
              "  <svg xmlns=\"http://www.w3.org/2000/svg\" height=\"24px\"viewBox=\"0 0 24 24\"\n",
              "       width=\"24px\">\n",
              "    <path d=\"M0 0h24v24H0V0z\" fill=\"none\"/>\n",
              "    <path d=\"M18.56 5.44l.94 2.06.94-2.06 2.06-.94-2.06-.94-.94-2.06-.94 2.06-2.06.94zm-11 1L8.5 8.5l.94-2.06 2.06-.94-2.06-.94L8.5 2.5l-.94 2.06-2.06.94zm10 10l.94 2.06.94-2.06 2.06-.94-2.06-.94-.94-2.06-.94 2.06-2.06.94z\"/><path d=\"M17.41 7.96l-1.37-1.37c-.4-.4-.92-.59-1.43-.59-.52 0-1.04.2-1.43.59L10.3 9.45l-7.72 7.72c-.78.78-.78 2.05 0 2.83L4 21.41c.39.39.9.59 1.41.59.51 0 1.02-.2 1.41-.59l7.78-7.78 2.81-2.81c.8-.78.8-2.07 0-2.86zM5.41 20L4 18.59l7.72-7.72 1.47 1.35L5.41 20z\"/>\n",
              "  </svg>\n",
              "      </button>\n",
              "      \n",
              "  <style>\n",
              "    .colab-df-container {\n",
              "      display:flex;\n",
              "      flex-wrap:wrap;\n",
              "      gap: 12px;\n",
              "    }\n",
              "\n",
              "    .colab-df-convert {\n",
              "      background-color: #E8F0FE;\n",
              "      border: none;\n",
              "      border-radius: 50%;\n",
              "      cursor: pointer;\n",
              "      display: none;\n",
              "      fill: #1967D2;\n",
              "      height: 32px;\n",
              "      padding: 0 0 0 0;\n",
              "      width: 32px;\n",
              "    }\n",
              "\n",
              "    .colab-df-convert:hover {\n",
              "      background-color: #E2EBFA;\n",
              "      box-shadow: 0px 1px 2px rgba(60, 64, 67, 0.3), 0px 1px 3px 1px rgba(60, 64, 67, 0.15);\n",
              "      fill: #174EA6;\n",
              "    }\n",
              "\n",
              "    [theme=dark] .colab-df-convert {\n",
              "      background-color: #3B4455;\n",
              "      fill: #D2E3FC;\n",
              "    }\n",
              "\n",
              "    [theme=dark] .colab-df-convert:hover {\n",
              "      background-color: #434B5C;\n",
              "      box-shadow: 0px 1px 3px 1px rgba(0, 0, 0, 0.15);\n",
              "      filter: drop-shadow(0px 1px 2px rgba(0, 0, 0, 0.3));\n",
              "      fill: #FFFFFF;\n",
              "    }\n",
              "  </style>\n",
              "\n",
              "      <script>\n",
              "        const buttonEl =\n",
              "          document.querySelector('#df-4022e7e1-8bf9-4ff7-9400-81c359f14e6a button.colab-df-convert');\n",
              "        buttonEl.style.display =\n",
              "          google.colab.kernel.accessAllowed ? 'block' : 'none';\n",
              "\n",
              "        async function convertToInteractive(key) {\n",
              "          const element = document.querySelector('#df-4022e7e1-8bf9-4ff7-9400-81c359f14e6a');\n",
              "          const dataTable =\n",
              "            await google.colab.kernel.invokeFunction('convertToInteractive',\n",
              "                                                     [key], {});\n",
              "          if (!dataTable) return;\n",
              "\n",
              "          const docLinkHtml = 'Like what you see? Visit the ' +\n",
              "            '<a target=\"_blank\" href=https://colab.research.google.com/notebooks/data_table.ipynb>data table notebook</a>'\n",
              "            + ' to learn more about interactive tables.';\n",
              "          element.innerHTML = '';\n",
              "          dataTable['output_type'] = 'display_data';\n",
              "          await google.colab.output.renderOutput(dataTable, element);\n",
              "          const docLink = document.createElement('div');\n",
              "          docLink.innerHTML = docLinkHtml;\n",
              "          element.appendChild(docLink);\n",
              "        }\n",
              "      </script>\n",
              "    </div>\n",
              "  </div>\n",
              "  "
            ]
          },
          "metadata": {},
          "execution_count": 11
        }
      ]
    },
    {
      "cell_type": "code",
      "source": [
        "# Removing entries without text\n",
        "order_reviews_df= order_reviews_df[order_reviews_df[\"full_review\"] != ' ']"
      ],
      "metadata": {
        "id": "eMtYmrj6byBq"
      },
      "execution_count": null,
      "outputs": []
    },
    {
      "cell_type": "code",
      "source": [
        "# Grouping the \"review_score\" and counting reviews by \"review_score\"\n",
        "review_score_groupby = order_reviews_df.groupby([\"review_score\"])[\"review_score\"].count()\n",
        "review_score_groupby\n",
        "\n",
        "# We concluded that customers gave reviews from 1 to 5.\n",
        "# Below we can see the total number of reviews by score."
      ],
      "metadata": {
        "colab": {
          "base_uri": "https://localhost:8080/"
        },
        "id": "xvFjdvydNiL9",
        "outputId": "aa6c7b3e-5a04-4842-cee1-7ffc2bd5f2e2"
      },
      "execution_count": null,
      "outputs": [
        {
          "output_type": "execute_result",
          "data": {
            "text/plain": [
              "review_score\n",
              "1     5109\n",
              "2     1245\n",
              "3     2125\n",
              "4     3654\n",
              "5    12589\n",
              "Name: review_score, dtype: int64"
            ]
          },
          "metadata": {},
          "execution_count": 13
        }
      ]
    },
    {
      "cell_type": "code",
      "source": [
        "# Generating a bar chart\n",
        "\n",
        "review_score_groupby.plot(kind=\"bar\", title=\"Review Score vs Quantity\", ylabel=\"Quantity\",\n",
        "         xlabel=\"Review Score\",color=[\"black\", \"yellow\",\"purple\",\"green\",\"red\"], figsize=(6, 5))\n",
        "\n",
        "# Through this graph, we can conclude that the majority of reviews have a rating of 5,\n",
        "# i.e. the maximum grade."
      ],
      "metadata": {
        "colab": {
          "base_uri": "https://localhost:8080/",
          "height": 363
        },
        "id": "g3g-drxUmIaI",
        "outputId": "1908b037-cce2-4530-82ab-cd512f9ff290"
      },
      "execution_count": null,
      "outputs": [
        {
          "output_type": "execute_result",
          "data": {
            "text/plain": [
              "<matplotlib.axes._subplots.AxesSubplot at 0x7f4ee73f3400>"
            ]
          },
          "metadata": {},
          "execution_count": 14
        },
        {
          "output_type": "display_data",
          "data": {
            "text/plain": [
              "<Figure size 432x360 with 1 Axes>"
            ],
            "image/png": "[encoded data removed]"
          },
          "metadata": {
            "needs_background": "light"
          }
        }
      ]
    },
    {
      "cell_type": "markdown",
      "source": [
        "## <center style=\"color:blue;\"> Note 1</center>\n",
        "### <center>As the goal of this challenge is to build a classification model, we will need to create one more column that will be our class. Therefore, we will establish that:</center>\n",
        "### <center style=\"color:red;\">\"review_score\" less than or equal to 3, will be classified as negative (receiving the value 0)</center>\n",
        "### <center style=\"color:green;\">\"review_score\" greater than or equal to 4, will be classified as positive (receiving the value 1)</center>"
      ],
      "metadata": {
        "id": "avinsl51mW9y"
      }
    },
    {
      "cell_type": "code",
      "source": [
        "# Creation of the list \"class_num_list\" that will receive the values ​​corresponding to each class\n",
        "class_num_list = []\n",
        "\n",
        "# For loop that iterates through the \"review_score\" column, assigns the appropriate values, and appends them to the \"class_num_list\"\n",
        "for c in order_reviews_df['review_score']:\n",
        "  if c > 3:\n",
        "    class_num_list.append(1)\n",
        "  else:\n",
        "    class_num_list.append(0)\n"
      ],
      "metadata": {
        "id": "UGKknwjjNvmA"
      },
      "execution_count": null,
      "outputs": []
    },
    {
      "cell_type": "code",
      "source": [
        "# Adding the \"class_num\" column with the values ​​from \"class_list_num\"\n",
        "order_reviews_df['class_num'] = class_num_list"
      ],
      "metadata": {
        "id": "xxfNQyvIp3gU"
      },
      "execution_count": null,
      "outputs": []
    },
    {
      "cell_type": "code",
      "source": [
        "# Grouping the \"class_column\" column and counting the negative (0) and positive (1) records\n",
        "class_groupby = order_reviews_df.groupby([\"class_num\"])[\"class_num\"].count()\n",
        "class_groupby\n",
        "\n",
        "# Here we can see that our database is unbalanced,\n",
        "# since there are more positive records than negative ones.\n",
        "\n",
        "# As the calculations below show, we can see that positive records(1)\n",
        "# correspond to 65.7% of the total database, against 34.3% of negative records (0)."
      ],
      "metadata": {
        "colab": {
          "base_uri": "https://localhost:8080/"
        },
        "id": "guDZCTyhsabH",
        "outputId": "9f4524ac-6236-442e-ef80-74e5c577b2f4"
      },
      "execution_count": null,
      "outputs": [
        {
          "output_type": "execute_result",
          "data": {
            "text/plain": [
              "class_num\n",
              "0     8479\n",
              "1    16243\n",
              "Name: class_num, dtype: int64"
            ]
          },
          "metadata": {},
          "execution_count": 17
        }
      ]
    },
    {
      "cell_type": "code",
      "source": [
        "# Calculating the percentage of positive records in the database\n",
        "((class_groupby[1]/order_reviews_df.shape[0])*100).round(decimals=2)"
      ],
      "metadata": {
        "colab": {
          "base_uri": "https://localhost:8080/"
        },
        "id": "rINKPGUwsaYh",
        "outputId": "99774e4e-a248-4d2c-8bde-7664ba4d479d"
      },
      "execution_count": null,
      "outputs": [
        {
          "output_type": "execute_result",
          "data": {
            "text/plain": [
              "65.7"
            ]
          },
          "metadata": {},
          "execution_count": 18
        }
      ]
    },
    {
      "cell_type": "code",
      "source": [
        "# Calculating the percentage of negative records in the database\n",
        "((class_groupby[0]/order_reviews_df.shape[0])*100).round(decimals=2)"
      ],
      "metadata": {
        "colab": {
          "base_uri": "https://localhost:8080/"
        },
        "id": "gqwqRYQ1sljI",
        "outputId": "fbc9ae30-5e2c-41d4-83a3-bc2084bddd4a"
      },
      "execution_count": null,
      "outputs": [
        {
          "output_type": "execute_result",
          "data": {
            "text/plain": [
              "34.3"
            ]
          },
          "metadata": {},
          "execution_count": 19
        }
      ]
    },
    {
      "cell_type": "code",
      "source": [
        "# Generating a bar chart\n",
        "class_groupby.plot(kind=\"bar\", title=\"Class vs Quantity\", ylabel=\"Quantity\",\n",
        "         xlabel=\"Class\",color=[\"red\",\"green\"], figsize=(6, 5))"
      ],
      "metadata": {
        "colab": {
          "base_uri": "https://localhost:8080/",
          "height": 363
        },
        "id": "7TudZ1eHslfz",
        "outputId": "6aa20887-2b42-4183-abe5-5f853985cca1"
      },
      "execution_count": null,
      "outputs": [
        {
          "output_type": "execute_result",
          "data": {
            "text/plain": [
              "<matplotlib.axes._subplots.AxesSubplot at 0x7f4ee6ebfe20>"
            ]
          },
          "metadata": {},
          "execution_count": 20
        },
        {
          "output_type": "display_data",
          "data": {
            "text/plain": [
              "<Figure size 432x360 with 1 Axes>"
            ],
            "image/png": "[encoded data removed]"
          },
          "metadata": {
            "needs_background": "light"
          }
        }
      ]
    },
    {
      "cell_type": "markdown",
      "source": [
        "## Text preprocessing"
      ],
      "metadata": {
        "id": "_-rYN_L6nfFf"
      }
    },
    {
      "cell_type": "code",
      "source": [
        "# Defining the \"stop_words\" variable\n",
        "# \"stop_words\" are sets of words most used in a language.\n",
        "# Stop words allow the algorithm to focus on the words important and eliminate unimportant words.\n",
        "stop_words = stopwords.words(\"portuguese\")\n",
        "stop_words[:4]"
      ],
      "metadata": {
        "colab": {
          "base_uri": "https://localhost:8080/"
        },
        "id": "ep8WEPjFNvbr",
        "outputId": "59b88aab-62f2-4917-dc9f-fa40524a3c67"
      },
      "execution_count": null,
      "outputs": [
        {
          "output_type": "execute_result",
          "data": {
            "text/plain": [
              "['a', 'à', 'ao', 'aos']"
            ]
          },
          "metadata": {},
          "execution_count": 21
        }
      ]
    },
    {
      "cell_type": "code",
      "source": [
        "# Removal of \"stop_words\": \"não\" and \"nem\"\n",
        "# As we are dealing with reviews, the words \"no\" and \"neither\" are important for sentiment analysis, so let's remove them from the \"stop_words\"\n",
        "stop_words.remove('não')\n",
        "stop_words.remove('nem')"
      ],
      "metadata": {
        "id": "ZoRT79w6NvZM"
      },
      "execution_count": null,
      "outputs": []
    },
    {
      "cell_type": "code",
      "source": [
        "# Creating the variable \"nlp\", which loads \"pt_core_news_sm\".\n",
        "# \"pt_core_news_sm\" is a CPU-optimized Portuguese pipeline.\n",
        "# It's components are: tok2vec, morphologizer, parser, lemmatizer (trainable_lemmatizer), senter, ner, attribute_ruler.\n",
        "nlp = pt_core_news_sm.load()"
      ],
      "metadata": {
        "id": "AL2SBshhNOv4"
      },
      "execution_count": null,
      "outputs": []
    },
    {
      "cell_type": "code",
      "source": [
        "# Function that will pre-process the \"full_review\" column\n",
        "def pre_processing(text):\n",
        "  # Transform text to lowercase letters\n",
        "  text = text.lower()\n",
        "\n",
        "  # Filters unwanted characters, replacing what is in the regex with a blank space \" \".\n",
        "  # Regex (regular expression): \"[\\W\\d_]+\":\n",
        "  # \"\\W\" = any character that is not a word character\n",
        "  # (alphanumeric and underscore). Equivalent to [^A-Za-z0-9_]\n",
        "  # \"\\d\" = matches any digit character (0-9).\n",
        "  # \"_\" = matches a \"_\" character\n",
        "  # \"+\" = matches 1 or more of the previous token\n",
        "  text = re.sub(r\"[\\W\\d_]+\", \" \", text)\n",
        "\n",
        "  # Remove stop words\n",
        "  text = [word for word in text.split() if word not in stop_words]\n",
        "\n",
        "  # Perform lemmatization\n",
        "  # Lemmatization is the act of representing words through the infinitive\n",
        "  # of verbs and masculine singular of nouns and adjectives.\n",
        "  # \"-PRON-\" = personal pronouns (spacy)\n",
        "  phrase  = nlp(\" \".join(text))\n",
        "\n",
        "  # Perform tokenization\n",
        "  # Tokenization's main objective is to transform sentences into a sequence of tokens,\n",
        "  # in other words, it is a process that creates a vector, in which the sentence is represented in numbers.\n",
        "  tokens = [word.lemma_ if word.lemma_ != \"-PRON-\" else word.lower_ for word in phrase ]\n",
        "\n",
        "  return \" \".join(tokens)"
      ],
      "metadata": {
        "id": "x-Q4HkyOOBpj"
      },
      "execution_count": null,
      "outputs": []
    },
    {
      "cell_type": "code",
      "source": [
        "# Selecting a random phrase\n",
        "random_phrase = order_reviews_df.iloc[45][4]\n",
        "random_phrase"
      ],
      "metadata": {
        "colab": {
          "base_uri": "https://localhost:8080/",
          "height": 35
        },
        "id": "PkySEA3DENDd",
        "outputId": "e62334b1-e561-4f5f-c97f-85efd13eb3a4"
      },
      "execution_count": null,
      "outputs": [
        {
          "output_type": "execute_result",
          "data": {
            "text/plain": [
              "' Produto chegou, mas meu PC não conseguiu reconhecer as portas USB.'"
            ],
            "application/vnd.google.colaboratory.intrinsic+json": {
              "type": "string"
            }
          },
          "metadata": {},
          "execution_count": 25
        }
      ]
    },
    {
      "cell_type": "code",
      "source": [
        "# Testing the preprocessing function\n",
        "test = pre_processing(random_phrase)\n",
        "test"
      ],
      "metadata": {
        "colab": {
          "base_uri": "https://localhost:8080/",
          "height": 35
        },
        "id": "oH4cDw3-EM9p",
        "outputId": "db92f41e-4c2f-4b2f-d611-a8ae864ab6ee"
      },
      "execution_count": null,
      "outputs": [
        {
          "output_type": "execute_result",
          "data": {
            "text/plain": [
              "'produto chegar pc não conseguir reconhecer porta usb'"
            ],
            "application/vnd.google.colaboratory.intrinsic+json": {
              "type": "string"
            }
          },
          "metadata": {},
          "execution_count": 26
        }
      ]
    },
    {
      "cell_type": "code",
      "source": [
        "# Applying the preprocessing function to the \"full_review\" column\n",
        "order_reviews_df[\"full_review\"] = order_reviews_df[\"full_review\"].apply(pre_processing)"
      ],
      "metadata": {
        "id": "sl8eLWp-OBl-"
      },
      "execution_count": null,
      "outputs": []
    },
    {
      "cell_type": "code",
      "source": [
        "# Checking first 5 records after preprocessing\n",
        "order_reviews_df.head()"
      ],
      "metadata": {
        "colab": {
          "base_uri": "https://localhost:8080/",
          "height": 493
        },
        "id": "glvu7CvJOBju",
        "outputId": "d181a76d-8779-4cc9-d38d-5efcbdb11849"
      },
      "execution_count": null,
      "outputs": [
        {
          "output_type": "execute_result",
          "data": {
            "text/plain": [
              "                           review_id  review_score review_comment_title  \\\n",
              "3   e64fb393e7b32834bb789ff8bb30750e             5                        \n",
              "4   f7c4243c7fe1938f181bec41a392bdeb             5                        \n",
              "9   8670d52e15e00043ae7de4c01cc2fe06             4            recomendo   \n",
              "12  4b49719c8a200003f700d3d986ea1a19             4                        \n",
              "15  3948b09f7c818e2d86c9a546758b2335             5      Super recomendo   \n",
              "\n",
              "                               review_comment_message  \\\n",
              "3               Recebi bem antes do prazo estipulado.   \n",
              "4   Parabéns lojas lannister adorei comprar pela I...   \n",
              "9   aparelho eficiente. no site a marca do aparelh...   \n",
              "12    Mas um pouco ,travando...pelo valor ta Boa.\\r\\n   \n",
              "15  Vendedor confiável, produto ok e entrega antes...   \n",
              "\n",
              "                                          full_review  class_num  \n",
              "3                    recebi bem antes prazo estipular          1  \n",
              "4   parabém loja lannister adorei comprar Internet...          1  \n",
              "9   recomendo aparelho eficiente site marca aparel...          1  \n",
              "12                          pouco travar valor ta bom          1  \n",
              "15  super recomendo vendedor confiável produto ok ...          1  "
            ],
            "text/html": [
              "\n",
              "  <div id=\"df-9a0d25e4-e0bb-4a7d-9702-a02c8a08c0e3\">\n",
              "    <div class=\"colab-df-container\">\n",
              "      <div>\n",
              "<style scoped>\n",
              "    .dataframe tbody tr th:only-of-type {\n",
              "        vertical-align: middle;\n",
              "    }\n",
              "\n",
              "    .dataframe tbody tr th {\n",
              "        vertical-align: top;\n",
              "    }\n",
              "\n",
              "    .dataframe thead th {\n",
              "        text-align: right;\n",
              "    }\n",
              "</style>\n",
              "<table border=\"1\" class=\"dataframe\">\n",
              "  <thead>\n",
              "    <tr style=\"text-align: right;\">\n",
              "      <th></th>\n",
              "      <th>review_id</th>\n",
              "      <th>review_score</th>\n",
              "      <th>review_comment_title</th>\n",
              "      <th>review_comment_message</th>\n",
              "      <th>full_review</th>\n",
              "      <th>class_num</th>\n",
              "    </tr>\n",
              "  </thead>\n",
              "  <tbody>\n",
              "    <tr>\n",
              "      <th>3</th>\n",
              "      <td>e64fb393e7b32834bb789ff8bb30750e</td>\n",
              "      <td>5</td>\n",
              "      <td></td>\n",
              "      <td>Recebi bem antes do prazo estipulado.</td>\n",
              "      <td>recebi bem antes prazo estipular</td>\n",
              "      <td>1</td>\n",
              "    </tr>\n",
              "    <tr>\n",
              "      <th>4</th>\n",
              "      <td>f7c4243c7fe1938f181bec41a392bdeb</td>\n",
              "      <td>5</td>\n",
              "      <td></td>\n",
              "      <td>Parabéns lojas lannister adorei comprar pela I...</td>\n",
              "      <td>parabém loja lannister adorei comprar Internet...</td>\n",
              "      <td>1</td>\n",
              "    </tr>\n",
              "    <tr>\n",
              "      <th>9</th>\n",
              "      <td>8670d52e15e00043ae7de4c01cc2fe06</td>\n",
              "      <td>4</td>\n",
              "      <td>recomendo</td>\n",
              "      <td>aparelho eficiente. no site a marca do aparelh...</td>\n",
              "      <td>recomendo aparelho eficiente site marca aparel...</td>\n",
              "      <td>1</td>\n",
              "    </tr>\n",
              "    <tr>\n",
              "      <th>12</th>\n",
              "      <td>4b49719c8a200003f700d3d986ea1a19</td>\n",
              "      <td>4</td>\n",
              "      <td></td>\n",
              "      <td>Mas um pouco ,travando...pelo valor ta Boa.\\r\\n</td>\n",
              "      <td>pouco travar valor ta bom</td>\n",
              "      <td>1</td>\n",
              "    </tr>\n",
              "    <tr>\n",
              "      <th>15</th>\n",
              "      <td>3948b09f7c818e2d86c9a546758b2335</td>\n",
              "      <td>5</td>\n",
              "      <td>Super recomendo</td>\n",
              "      <td>Vendedor confiável, produto ok e entrega antes...</td>\n",
              "      <td>super recomendo vendedor confiável produto ok ...</td>\n",
              "      <td>1</td>\n",
              "    </tr>\n",
              "  </tbody>\n",
              "</table>\n",
              "</div>\n",
              "      <button class=\"colab-df-convert\" onclick=\"convertToInteractive('df-9a0d25e4-e0bb-4a7d-9702-a02c8a08c0e3')\"\n",
              "              title=\"Convert this dataframe to an interactive table.\"\n",
              "              style=\"display:none;\">\n",
              "        \n",
              "  <svg xmlns=\"http://www.w3.org/2000/svg\" height=\"24px\"viewBox=\"0 0 24 24\"\n",
              "       width=\"24px\">\n",
              "    <path d=\"M0 0h24v24H0V0z\" fill=\"none\"/>\n",
              "    <path d=\"M18.56 5.44l.94 2.06.94-2.06 2.06-.94-2.06-.94-.94-2.06-.94 2.06-2.06.94zm-11 1L8.5 8.5l.94-2.06 2.06-.94-2.06-.94L8.5 2.5l-.94 2.06-2.06.94zm10 10l.94 2.06.94-2.06 2.06-.94-2.06-.94-.94-2.06-.94 2.06-2.06.94z\"/><path d=\"M17.41 7.96l-1.37-1.37c-.4-.4-.92-.59-1.43-.59-.52 0-1.04.2-1.43.59L10.3 9.45l-7.72 7.72c-.78.78-.78 2.05 0 2.83L4 21.41c.39.39.9.59 1.41.59.51 0 1.02-.2 1.41-.59l7.78-7.78 2.81-2.81c.8-.78.8-2.07 0-2.86zM5.41 20L4 18.59l7.72-7.72 1.47 1.35L5.41 20z\"/>\n",
              "  </svg>\n",
              "      </button>\n",
              "      \n",
              "  <style>\n",
              "    .colab-df-container {\n",
              "      display:flex;\n",
              "      flex-wrap:wrap;\n",
              "      gap: 12px;\n",
              "    }\n",
              "\n",
              "    .colab-df-convert {\n",
              "      background-color: #E8F0FE;\n",
              "      border: none;\n",
              "      border-radius: 50%;\n",
              "      cursor: pointer;\n",
              "      display: none;\n",
              "      fill: #1967D2;\n",
              "      height: 32px;\n",
              "      padding: 0 0 0 0;\n",
              "      width: 32px;\n",
              "    }\n",
              "\n",
              "    .colab-df-convert:hover {\n",
              "      background-color: #E2EBFA;\n",
              "      box-shadow: 0px 1px 2px rgba(60, 64, 67, 0.3), 0px 1px 3px 1px rgba(60, 64, 67, 0.15);\n",
              "      fill: #174EA6;\n",
              "    }\n",
              "\n",
              "    [theme=dark] .colab-df-convert {\n",
              "      background-color: #3B4455;\n",
              "      fill: #D2E3FC;\n",
              "    }\n",
              "\n",
              "    [theme=dark] .colab-df-convert:hover {\n",
              "      background-color: #434B5C;\n",
              "      box-shadow: 0px 1px 3px 1px rgba(0, 0, 0, 0.15);\n",
              "      filter: drop-shadow(0px 1px 2px rgba(0, 0, 0, 0.3));\n",
              "      fill: #FFFFFF;\n",
              "    }\n",
              "  </style>\n",
              "\n",
              "      <script>\n",
              "        const buttonEl =\n",
              "          document.querySelector('#df-9a0d25e4-e0bb-4a7d-9702-a02c8a08c0e3 button.colab-df-convert');\n",
              "        buttonEl.style.display =\n",
              "          google.colab.kernel.accessAllowed ? 'block' : 'none';\n",
              "\n",
              "        async function convertToInteractive(key) {\n",
              "          const element = document.querySelector('#df-9a0d25e4-e0bb-4a7d-9702-a02c8a08c0e3');\n",
              "          const dataTable =\n",
              "            await google.colab.kernel.invokeFunction('convertToInteractive',\n",
              "                                                     [key], {});\n",
              "          if (!dataTable) return;\n",
              "\n",
              "          const docLinkHtml = 'Like what you see? Visit the ' +\n",
              "            '<a target=\"_blank\" href=https://colab.research.google.com/notebooks/data_table.ipynb>data table notebook</a>'\n",
              "            + ' to learn more about interactive tables.';\n",
              "          element.innerHTML = '';\n",
              "          dataTable['output_type'] = 'display_data';\n",
              "          await google.colab.output.renderOutput(dataTable, element);\n",
              "          const docLink = document.createElement('div');\n",
              "          docLink.innerHTML = docLinkHtml;\n",
              "          element.appendChild(docLink);\n",
              "        }\n",
              "      </script>\n",
              "    </div>\n",
              "  </div>\n",
              "  "
            ]
          },
          "metadata": {},
          "execution_count": 28
        }
      ]
    },
    {
      "cell_type": "code",
      "source": [
        "# Checking if there are still empty records in the \"full_review\" column\n",
        "order_reviews_df[order_reviews_df[\"full_review\"] == '']\n",
        "\n",
        "# As you can see below, there are still empty records."
      ],
      "metadata": {
        "colab": {
          "base_uri": "https://localhost:8080/",
          "height": 488
        },
        "id": "RQyWfdGBOBhO",
        "outputId": "c975be14-1c63-44b5-95a2-31ee4f4209f3"
      },
      "execution_count": null,
      "outputs": [
        {
          "output_type": "execute_result",
          "data": {
            "text/plain": [
              "                              review_id  review_score  \\\n",
              "297    2b4a570df87cd63b232272dd9dcac0cf             5   \n",
              "463    3140a4eb146655fe104d54d385f9e9a0             5   \n",
              "583    3814f35a6ebd64d27e2130f30ec05255             4   \n",
              "598    057c9a1e8e767d8bf6fa59ac43a82435             4   \n",
              "939    8f965d010b3119d9962e091de3425fb9             4   \n",
              "...                                 ...           ...   \n",
              "56043  8715867a859dacaef6122186fbf22fd9             5   \n",
              "56498  e92c7e2c8591a747e9112eb06ca610b7             5   \n",
              "57001  3fa2a3568c29ea42966581856164a144             5   \n",
              "57136  e62b75cdc1bab5182f327f27cbae2c01             5   \n",
              "57230  dab07cb4ed599e07fb2ac5811a650e88             1   \n",
              "\n",
              "            review_comment_title review_comment_message full_review  class_num  \n",
              "297                                                   A                      1  \n",
              "463                                                  10                      1  \n",
              "583                            5                                             1  \n",
              "598                            4                                             1  \n",
              "939                                 *******************                      1  \n",
              "...                          ...                    ...         ...        ...  \n",
              "56043                                                 👍                      1  \n",
              "56498                                                 .                      1  \n",
              "57001                         10                                             1  \n",
              "57136  *************************                                             1  \n",
              "57230                          2                                             0  \n",
              "\n",
              "[156 rows x 6 columns]"
            ],
            "text/html": [
              "\n",
              "  <div id=\"df-ade94be8-d636-489b-9d26-26a74cfbcb20\">\n",
              "    <div class=\"colab-df-container\">\n",
              "      <div>\n",
              "<style scoped>\n",
              "    .dataframe tbody tr th:only-of-type {\n",
              "        vertical-align: middle;\n",
              "    }\n",
              "\n",
              "    .dataframe tbody tr th {\n",
              "        vertical-align: top;\n",
              "    }\n",
              "\n",
              "    .dataframe thead th {\n",
              "        text-align: right;\n",
              "    }\n",
              "</style>\n",
              "<table border=\"1\" class=\"dataframe\">\n",
              "  <thead>\n",
              "    <tr style=\"text-align: right;\">\n",
              "      <th></th>\n",
              "      <th>review_id</th>\n",
              "      <th>review_score</th>\n",
              "      <th>review_comment_title</th>\n",
              "      <th>review_comment_message</th>\n",
              "      <th>full_review</th>\n",
              "      <th>class_num</th>\n",
              "    </tr>\n",
              "  </thead>\n",
              "  <tbody>\n",
              "    <tr>\n",
              "      <th>297</th>\n",
              "      <td>2b4a570df87cd63b232272dd9dcac0cf</td>\n",
              "      <td>5</td>\n",
              "      <td></td>\n",
              "      <td>A</td>\n",
              "      <td></td>\n",
              "      <td>1</td>\n",
              "    </tr>\n",
              "    <tr>\n",
              "      <th>463</th>\n",
              "      <td>3140a4eb146655fe104d54d385f9e9a0</td>\n",
              "      <td>5</td>\n",
              "      <td></td>\n",
              "      <td>10</td>\n",
              "      <td></td>\n",
              "      <td>1</td>\n",
              "    </tr>\n",
              "    <tr>\n",
              "      <th>583</th>\n",
              "      <td>3814f35a6ebd64d27e2130f30ec05255</td>\n",
              "      <td>4</td>\n",
              "      <td>5</td>\n",
              "      <td></td>\n",
              "      <td></td>\n",
              "      <td>1</td>\n",
              "    </tr>\n",
              "    <tr>\n",
              "      <th>598</th>\n",
              "      <td>057c9a1e8e767d8bf6fa59ac43a82435</td>\n",
              "      <td>4</td>\n",
              "      <td>4</td>\n",
              "      <td></td>\n",
              "      <td></td>\n",
              "      <td>1</td>\n",
              "    </tr>\n",
              "    <tr>\n",
              "      <th>939</th>\n",
              "      <td>8f965d010b3119d9962e091de3425fb9</td>\n",
              "      <td>4</td>\n",
              "      <td></td>\n",
              "      <td>*******************</td>\n",
              "      <td></td>\n",
              "      <td>1</td>\n",
              "    </tr>\n",
              "    <tr>\n",
              "      <th>...</th>\n",
              "      <td>...</td>\n",
              "      <td>...</td>\n",
              "      <td>...</td>\n",
              "      <td>...</td>\n",
              "      <td>...</td>\n",
              "      <td>...</td>\n",
              "    </tr>\n",
              "    <tr>\n",
              "      <th>56043</th>\n",
              "      <td>8715867a859dacaef6122186fbf22fd9</td>\n",
              "      <td>5</td>\n",
              "      <td></td>\n",
              "      <td>👍</td>\n",
              "      <td></td>\n",
              "      <td>1</td>\n",
              "    </tr>\n",
              "    <tr>\n",
              "      <th>56498</th>\n",
              "      <td>e92c7e2c8591a747e9112eb06ca610b7</td>\n",
              "      <td>5</td>\n",
              "      <td></td>\n",
              "      <td>.</td>\n",
              "      <td></td>\n",
              "      <td>1</td>\n",
              "    </tr>\n",
              "    <tr>\n",
              "      <th>57001</th>\n",
              "      <td>3fa2a3568c29ea42966581856164a144</td>\n",
              "      <td>5</td>\n",
              "      <td>10</td>\n",
              "      <td></td>\n",
              "      <td></td>\n",
              "      <td>1</td>\n",
              "    </tr>\n",
              "    <tr>\n",
              "      <th>57136</th>\n",
              "      <td>e62b75cdc1bab5182f327f27cbae2c01</td>\n",
              "      <td>5</td>\n",
              "      <td>*************************</td>\n",
              "      <td></td>\n",
              "      <td></td>\n",
              "      <td>1</td>\n",
              "    </tr>\n",
              "    <tr>\n",
              "      <th>57230</th>\n",
              "      <td>dab07cb4ed599e07fb2ac5811a650e88</td>\n",
              "      <td>1</td>\n",
              "      <td>2</td>\n",
              "      <td></td>\n",
              "      <td></td>\n",
              "      <td>0</td>\n",
              "    </tr>\n",
              "  </tbody>\n",
              "</table>\n",
              "<p>156 rows × 6 columns</p>\n",
              "</div>\n",
              "      <button class=\"colab-df-convert\" onclick=\"convertToInteractive('df-ade94be8-d636-489b-9d26-26a74cfbcb20')\"\n",
              "              title=\"Convert this dataframe to an interactive table.\"\n",
              "              style=\"display:none;\">\n",
              "        \n",
              "  <svg xmlns=\"http://www.w3.org/2000/svg\" height=\"24px\"viewBox=\"0 0 24 24\"\n",
              "       width=\"24px\">\n",
              "    <path d=\"M0 0h24v24H0V0z\" fill=\"none\"/>\n",
              "    <path d=\"M18.56 5.44l.94 2.06.94-2.06 2.06-.94-2.06-.94-.94-2.06-.94 2.06-2.06.94zm-11 1L8.5 8.5l.94-2.06 2.06-.94-2.06-.94L8.5 2.5l-.94 2.06-2.06.94zm10 10l.94 2.06.94-2.06 2.06-.94-2.06-.94-.94-2.06-.94 2.06-2.06.94z\"/><path d=\"M17.41 7.96l-1.37-1.37c-.4-.4-.92-.59-1.43-.59-.52 0-1.04.2-1.43.59L10.3 9.45l-7.72 7.72c-.78.78-.78 2.05 0 2.83L4 21.41c.39.39.9.59 1.41.59.51 0 1.02-.2 1.41-.59l7.78-7.78 2.81-2.81c.8-.78.8-2.07 0-2.86zM5.41 20L4 18.59l7.72-7.72 1.47 1.35L5.41 20z\"/>\n",
              "  </svg>\n",
              "      </button>\n",
              "      \n",
              "  <style>\n",
              "    .colab-df-container {\n",
              "      display:flex;\n",
              "      flex-wrap:wrap;\n",
              "      gap: 12px;\n",
              "    }\n",
              "\n",
              "    .colab-df-convert {\n",
              "      background-color: #E8F0FE;\n",
              "      border: none;\n",
              "      border-radius: 50%;\n",
              "      cursor: pointer;\n",
              "      display: none;\n",
              "      fill: #1967D2;\n",
              "      height: 32px;\n",
              "      padding: 0 0 0 0;\n",
              "      width: 32px;\n",
              "    }\n",
              "\n",
              "    .colab-df-convert:hover {\n",
              "      background-color: #E2EBFA;\n",
              "      box-shadow: 0px 1px 2px rgba(60, 64, 67, 0.3), 0px 1px 3px 1px rgba(60, 64, 67, 0.15);\n",
              "      fill: #174EA6;\n",
              "    }\n",
              "\n",
              "    [theme=dark] .colab-df-convert {\n",
              "      background-color: #3B4455;\n",
              "      fill: #D2E3FC;\n",
              "    }\n",
              "\n",
              "    [theme=dark] .colab-df-convert:hover {\n",
              "      background-color: #434B5C;\n",
              "      box-shadow: 0px 1px 3px 1px rgba(0, 0, 0, 0.15);\n",
              "      filter: drop-shadow(0px 1px 2px rgba(0, 0, 0, 0.3));\n",
              "      fill: #FFFFFF;\n",
              "    }\n",
              "  </style>\n",
              "\n",
              "      <script>\n",
              "        const buttonEl =\n",
              "          document.querySelector('#df-ade94be8-d636-489b-9d26-26a74cfbcb20 button.colab-df-convert');\n",
              "        buttonEl.style.display =\n",
              "          google.colab.kernel.accessAllowed ? 'block' : 'none';\n",
              "\n",
              "        async function convertToInteractive(key) {\n",
              "          const element = document.querySelector('#df-ade94be8-d636-489b-9d26-26a74cfbcb20');\n",
              "          const dataTable =\n",
              "            await google.colab.kernel.invokeFunction('convertToInteractive',\n",
              "                                                     [key], {});\n",
              "          if (!dataTable) return;\n",
              "\n",
              "          const docLinkHtml = 'Like what you see? Visit the ' +\n",
              "            '<a target=\"_blank\" href=https://colab.research.google.com/notebooks/data_table.ipynb>data table notebook</a>'\n",
              "            + ' to learn more about interactive tables.';\n",
              "          element.innerHTML = '';\n",
              "          dataTable['output_type'] = 'display_data';\n",
              "          await google.colab.output.renderOutput(dataTable, element);\n",
              "          const docLink = document.createElement('div');\n",
              "          docLink.innerHTML = docLinkHtml;\n",
              "          element.appendChild(docLink);\n",
              "        }\n",
              "      </script>\n",
              "    </div>\n",
              "  </div>\n",
              "  "
            ]
          },
          "metadata": {},
          "execution_count": 29
        }
      ]
    },
    {
      "cell_type": "code",
      "source": [
        "# Removing empty records from the \"full_review\" column\n",
        "order_reviews_df = order_reviews_df[order_reviews_df[\"full_review\"] != '']"
      ],
      "metadata": {
        "id": "15iTjwxZOBe4"
      },
      "execution_count": null,
      "outputs": []
    },
    {
      "cell_type": "code",
      "source": [
        "# Saving the pre-processed dataset\n",
        "order_reviews_df.to_csv('processed_dataset.csv', index= False, columns= [\"full_review\", \"class_num\"])"
      ],
      "metadata": {
        "id": "HvkIaEmdOBca"
      },
      "execution_count": null,
      "outputs": []
    },
    {
      "cell_type": "markdown",
      "source": [
        "## Feature Extraction"
      ],
      "metadata": {
        "id": "Fv9jFDD5CFkp"
      }
    },
    {
      "cell_type": "markdown",
      "source": [
        "###Method: TF-IDF (Term Frequency Inverse Document Frequency)"
      ],
      "metadata": {
        "id": "y8qTvzzdG2eh"
      }
    },
    {
      "cell_type": "markdown",
      "source": [
        "The TF-IDF method is made up of statistical measures to measure how important a word is in a document (text). Through it, it is possible to understand the importance of a word through punctuation.\n",
        "\n",
        "This score is made by multiplying two terms: Term Frequency, which measures how often a term occurs in a document, and Inverse Document Frequency, which measures how important a term is in the context of all documents.\n",
        "\n",
        "\n",
        "\n"
      ],
      "metadata": {
        "id": "xM6VDhWTHBv5"
      }
    },
    {
      "cell_type": "code",
      "source": [
        "# Creating the variable \"tfidf\" that will receive the TfidfVectorizer function\n",
        "tfidf_vect = TfidfVectorizer(max_features=5000)\n",
        "\n",
        "# \"text\" variable that receives the \"full_review\" column\n",
        "text = order_reviews_df[\"full_review\"]\n",
        "\n",
        "# Doing the vectorization\n",
        "X_tfidf = tfidf_vect.fit_transform(text)"
      ],
      "metadata": {
        "id": "yZ4-R3XSORxs"
      },
      "execution_count": null,
      "outputs": []
    },
    {
      "cell_type": "code",
      "source": [
        "# Observing a sample of the vectorized result\n",
        "print(X_tfidf[:1])"
      ],
      "metadata": {
        "colab": {
          "base_uri": "https://localhost:8080/"
        },
        "id": "1Dq9qMR8OfaQ",
        "outputId": "7466f669-739a-4e45-fb1a-69dc0fab1c3b"
      },
      "execution_count": null,
      "outputs": [
        {
          "output_type": "stream",
          "name": "stdout",
          "text": [
            "  (0, 1751)\t0.6795199820074633\n",
            "  (0, 3539)\t0.3042703257328682\n",
            "  (0, 321)\t0.3500312909146224\n",
            "  (0, 562)\t0.42557280549685406\n",
            "  (0, 3839)\t0.3768793514285056\n"
          ]
        }
      ]
    },
    {
      "cell_type": "markdown",
      "source": [
        "## Separating into training and testing datasets"
      ],
      "metadata": {
        "id": "5ozyZ_WXHhFj"
      }
    },
    {
      "cell_type": "code",
      "source": [
        "X1_train, X1_test, y1_train, y1_test = train_test_split(X_tfidf, order_reviews_df[\"class_num\"],\n",
        "                                                        test_size=0.3, random_state = 10)"
      ],
      "metadata": {
        "id": "vfrwVUbpOfR-"
      },
      "execution_count": null,
      "outputs": []
    },
    {
      "cell_type": "markdown",
      "source": [
        "## Model: Logistic regression - Accuracy: 89%"
      ],
      "metadata": {
        "id": "zSLLUeQFHuVQ"
      }
    },
    {
      "cell_type": "code",
      "source": [
        "# Creating the variable \"reglog\" that will receive the Logistic Regression\n",
        "reglog = LogisticRegression()\n",
        "\n",
        "# Training the model\n",
        "reglog.fit(X1_train, y1_train)\n",
        "\n",
        "# Predict\n",
        "y1_reglog_pred = reglog.predict(X1_test)"
      ],
      "metadata": {
        "id": "4jcNAp3ZO067"
      },
      "execution_count": null,
      "outputs": []
    },
    {
      "cell_type": "code",
      "source": [
        "# Measuring accuracy\n",
        "print(\"Acurácia: \", accuracy_score(y1_test, y1_reglog_pred))"
      ],
      "metadata": {
        "colab": {
          "base_uri": "https://localhost:8080/"
        },
        "id": "Ct-bEVKNIzJj",
        "outputId": "077fdd04-8213-4423-81a9-ab5e1853e5e9"
      },
      "execution_count": null,
      "outputs": [
        {
          "output_type": "stream",
          "name": "stdout",
          "text": [
            "Acurácia:  0.8983717774762551\n"
          ]
        }
      ]
    },
    {
      "cell_type": "code",
      "source": [
        "# Confusion matrix\n",
        "print(\"\\nMatriz de confusão:\")\n",
        "sns.heatmap(confusion_matrix(y1_test, y1_reglog_pred), annot=True)\n",
        "plt.show()"
      ],
      "metadata": {
        "colab": {
          "base_uri": "https://localhost:8080/",
          "height": 303
        },
        "id": "U7Lwt2RTIu18",
        "outputId": "fd80e464-8d05-4c36-c0f7-d4f98f8c5988"
      },
      "execution_count": null,
      "outputs": [
        {
          "output_type": "stream",
          "name": "stdout",
          "text": [
            "\n",
            "Matriz de confusão:\n"
          ]
        },
        {
          "output_type": "display_data",
          "data": {
            "text/plain": [
              "<Figure size 432x288 with 2 Axes>"
            ],
            "image/png": "[encoded data removed]"
          },
          "metadata": {
            "needs_background": "light"
          }
        }
      ]
    },
    {
      "cell_type": "code",
      "source": [
        "# Classification Report\n",
        "print(classification_report(y1_test, y1_reglog_pred))"
      ],
      "metadata": {
        "colab": {
          "base_uri": "https://localhost:8080/"
        },
        "id": "0zxomal2O_wS",
        "outputId": "092558a8-4789-448e-9640-3c3796c9467f"
      },
      "execution_count": null,
      "outputs": [
        {
          "output_type": "stream",
          "name": "stdout",
          "text": [
            "              precision    recall  f1-score   support\n",
            "\n",
            "           0       0.86      0.83      0.85      2518\n",
            "           1       0.92      0.93      0.92      4852\n",
            "\n",
            "    accuracy                           0.90      7370\n",
            "   macro avg       0.89      0.88      0.89      7370\n",
            "weighted avg       0.90      0.90      0.90      7370\n",
            "\n"
          ]
        }
      ]
    },
    {
      "cell_type": "markdown",
      "source": [
        "###<center>Note 2</center>\n",
        "####<center>Through this metrics report, we can see that the model has 90% accuracy.</center>\n",
        "####<center> When it correctly classifies a class 0 (negative) review, it has 86% accuracy.</center>\n",
        "####<center>When classifying a class 1 (positive) review, it has 92% accuracy. In other words, he is 92% sure that that review, in fact, belongs to class 1.</center>"
      ],
      "metadata": {
        "id": "kdfSLFoYQnUj"
      }
    },
    {
      "cell_type": "markdown",
      "source": [
        "##Testing the model with new sentences"
      ],
      "metadata": {
        "id": "YIOyXWpNJ60t"
      }
    },
    {
      "cell_type": "code",
      "source": [
        "# Creation of the \"new_reviews\" list that receives new reviews\n",
        "new_reviews = [\"A experiencia foi horrível\",\n",
        "                \"Eu não gostei do produto\",\n",
        "                \"Super recomendo!\",\n",
        "                \"A entrega atrasou demais. Péssimo vendedor!\",\n",
        "                \"Amei! Virou meu ecommerce favorito\"]\n",
        "\n",
        "# Loop that iterates through each item in the list and performs sentiment analysis on each review\n",
        "n = 1\n",
        "for c in new_reviews:\n",
        "  vectorized_text = tfidf_vect.transform([c])\n",
        "  prediction = reglog.predict(vectorized_text)\n",
        "  if prediction == 0:\n",
        "    print(\"Review {}: {}; Classificação: Negativa {}\".format(n, c, prediction))\n",
        "  else:\n",
        "    print(\"Review {}: {}; Classificação: Positiva {}\".format(n, c, prediction))\n",
        "  n+=1"
      ],
      "metadata": {
        "colab": {
          "base_uri": "https://localhost:8080/"
        },
        "id": "hMQuLiR_KH1Q",
        "outputId": "174c10c8-0a52-4ec9-ace4-6c0793d14326"
      },
      "execution_count": null,
      "outputs": [
        {
          "output_type": "stream",
          "name": "stdout",
          "text": [
            "Review 1: A experiencia foi horrível; Classificação: Negativa [0]\n",
            "Review 2: Eu não gostei do produto; Classificação: Negativa [0]\n",
            "Review 3: Super recomendo!; Classificação: Positiva [1]\n",
            "Review 4: A entrega atrasou demais. Péssimo vendedor!; Classificação: Negativa [0]\n",
            "Review 5: Amei! Virou meu ecommerce favorito; Classificação: Positiva [1]\n"
          ]
        }
      ]
    },
    {
      "cell_type": "markdown",
      "source": [
        "## <center>Conclusion</center>\n",
        "###<center> After testing the model with new reviews, we can conclude that, with these samples, the model performed as expected and made the classifications correctly. </center>\n",
        "\n",
        "###<center> Still, there is always room for improvement. Therefore, a next step would be to test other classification algorithms and even neural networks to try to increase the model's accuracy.</center>"
      ],
      "metadata": {
        "id": "4owiJtiLQfob"
      }
    },
    {
      "cell_type": "markdown",
      "source": [
        "## <center>Extra Observations</center>\n",
        "####<center> I would like to point out that, during the development of this challenge, I also tested the Random Forest algorithm and it returned an accuracy of 88%. As the Logistic Regression was a little better, I chose to leave it as the \"final model\" of the challenge. </center>\n",
        "\n",
        "####<center> Furthermore, I also tested the model offered by the Spacy library, but it performed poorly with this database. Therefore, I decided to leave this option aside.</center>"
      ],
      "metadata": {
        "id": "FyYvXxvxgAcC"
      }
    },
    {
      "cell_type": "code",
      "source": [
        "# Creating the \"reglog\" variable that will receive the Random Forest\n",
        "rf = RandomForestClassifier()\n",
        "\n",
        "# Training the model\n",
        "rf.fit(X1_train, y1_train)\n",
        "\n",
        "# Predict\n",
        "y2_rf_pred = rf.predict(X1_test)\n",
        "\n",
        "# Measuring accuracy\n",
        "print(\"Acurácia: \", accuracy_score(y1_test, y2_rf_pred))"
      ],
      "metadata": {
        "colab": {
          "base_uri": "https://localhost:8080/"
        },
        "id": "0ul9Z8kvwQ7B",
        "outputId": "22d560e8-29dd-4167-f894-15c6481776db"
      },
      "execution_count": null,
      "outputs": [
        {
          "output_type": "stream",
          "name": "stdout",
          "text": [
            "Acurácia:  0.8896879240162823\n"
          ]
        }
      ]
    }
  ]
}